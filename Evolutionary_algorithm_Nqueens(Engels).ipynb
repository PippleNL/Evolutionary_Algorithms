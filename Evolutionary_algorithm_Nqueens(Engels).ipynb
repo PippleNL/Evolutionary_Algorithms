{
  "nbformat": 4,
  "nbformat_minor": 0,
  "metadata": {
    "colab": {
      "provenance": []
    },
    "kernelspec": {
      "name": "python3",
      "display_name": "Python 3"
    }
  },
  "cells": [
    {
      "cell_type": "markdown",
      "metadata": {
        "id": "WLXqphnSlAeJ"
      },
      "source": [
        "This notebook shows an example of an evolutionary algorithm in practice. First load necessary packages."
      ]
    },
    {
      "cell_type": "code",
      "metadata": {
        "id": "kFxZS3umjUFM"
      },
      "source": [
        "import random as rd\n",
        "import numpy as np\n",
        "import time"
      ],
      "execution_count": null,
      "outputs": []
    },
    {
      "cell_type": "markdown",
      "metadata": {
        "id": "f9kaFdTPlYR4"
      },
      "source": [
        "The N-queens problem is the problem of placing N queens on a chessboard of NxN such that no queen can go and capture another queen. For the non-chess players: A queen may move vertically, horizontally and diagonally, as many moves as desired. Below is an example of a correct solution for N=8.\n",
        "\n",
        "> ![alt text](https://cdn-images-1.medium.com/max/1200/1*Zm2pbDR5CS2w2xeUbTBxQQ.png)\n",
        "\n",
        "For N=8, there is a total of 64 choose 8 = 4,426,165,368 possible ways to place the queens, of which only 92 are a correct solution. So this already makes it quite impractical to check all the ways, let alone when N is larger. Therefore, we can use an evolutionary algorithm to find a solution.\n",
        "\n",
        "\n",
        "\n"
      ]
    },
    {
      "cell_type": "markdown",
      "metadata": {
        "id": "s22hYXw3nr7_"
      },
      "source": [
        "An evolutionary algorithm consists of a number of steps that are run iteratively until a solution is reached that meets a certain criteria. This can be a fixed number of iterations, or until no improvement is seen for x number of iterations, or until a solution is reached (as in the N-queens problem).\n",
        "\n",
        "\n",
        "> ![alt text](https://cdn-images-1.medium.com/max/1600/1*odW0CYMTeS-R5WW1hM0NUw.jpeg)\n",
        "\n",
        "Before starting, it is good to think about how we want to represent a solution. In the case of the N-queens problem, we can choose an 8x8 matrix, with a 1 if there is a queen, and a 0 if there is none. For example\n",
        "\n",
        "\n",
        "```\n",
        "[0, 0, 0, 0, 1, 0, 0, 0]\n",
        "[0, 1, 0, 0, 0, 0, 0, 0]\n",
        "[0, 0, 0, 1, 0, 0, 0, 0]\n",
        "[0, 0, 0, 0, 0, 0, 1, 0]\n",
        "[0, 0, 1, 0, 0, 0, 0, 0]\n",
        "[0, 0, 0, 0, 0, 0, 0, 1]\n",
        "[0, 0, 0, 0, 0, 1, 0, 0]\n",
        "[1, 0, 0, 0, 0, 0, 0, 0]\n",
        "```\n",
        "\n",
        "\n",
        "as in the chessboard from above. However, this gives a total of 2^64 possibilities, which is quite a lot to go through. We can also be a little smarter: We take an 8x1 vector, with a number between 1 and 8 in each entry, indicating the row number in which the queen is located. This way we automatically ensure that there are no queens on the same columns. Now there are only 8^8 possibilities left. Of course, we can even go a bit further: now we take an 8x1 vector, with each entry a number between 1 and 8, where each number may only occur once: Similarly, there cannot be two queens in each row and we are left with 8! = 40320 options left, significantly less! The above example is then represented by\n",
        "\n",
        "```\n",
        "[1, 7, 4, 6, 8, 2, 5, 3]\n",
        "```\n",
        "\n",
        "We call such a representation an 'individual'. For other problems you can also use other representations, this depends on the problem. For an evolutionary algorithm to work, you need a whole population, consisting of a lot of individuals. The size of the population is a parameter, for different problems a different population size works. In addition, of course, we need to know how \"good\" an individual is. For that we use a fitness function, in this particular case we count the number of queens that can beat each other.\n",
        "\n",
        "---\n",
        "\n",
        "Let's start by creating a class for an individual. We add two methods:\n",
        "\n",
        "\n",
        "*   One to randomly create an individual\n",
        "*   One to calculate the fitness of an individual\n",
        "\n",
        "\n",
        "\n"
      ]
    },
    {
      "cell_type": "code",
      "metadata": {
        "id": "2pIJQjcztH1t"
      },
      "source": [
        "# Initiate class individual\n",
        "class Individual:\n",
        "    def __init__(self, length, genes = None):\n",
        "        self.length = length\n",
        "        self.fitness = None\n",
        "        if genes is not None:\n",
        "            self.genes = genes\n",
        "        else:\n",
        "            self.genes = []*length\n",
        "\n",
        "\n",
        "    # Randomly initialise the genes\n",
        "    def InitialiseRandom(self):\n",
        "        self.genes = rd.sample(range(self.length), self.length)\n",
        "\n",
        "    # Create a fitness function to calculate how \"good\" the current individual is\n",
        "    def GetFitness(self, N):\n",
        "        \"\"\"\n",
        "        Calculates an individual's fitness\n",
        "        :param self: individual\n",
        "        \"\"\"\n",
        "        fit = 0\n",
        "        for i in range(N):\n",
        "            \"\"\"\n",
        "            Count the number of queens that can be beaten by this queen.\n",
        "            Because of the encoding, only the diagonal needs to be looked at.\n",
        "            A queen can be beaten by another queen if the absolute difference in\n",
        "              the genes is equal to the absolute difference in positions.\n",
        "            \"\"\"\n",
        "            for j in range(N):\n",
        "                # A queen cannot beat itself\n",
        "                if i != j:\n",
        "                    if abs(self.genes[i] - self.genes[j]) == abs(i - j):\n",
        "                        fit = fit + 1\n",
        "        self.fitness = fit"
      ],
      "execution_count": null,
      "outputs": []
    },
    {
      "cell_type": "markdown",
      "metadata": {
        "id": "vtGj0qUxuOsM"
      },
      "source": [
        "So to begin with, we create a population of randomly created individuals. In addition, we set some parameters for the size of the chessboard and for the size of the population."
      ]
    },
    {
      "cell_type": "code",
      "metadata": {
        "id": "mrMn_obsumpk"
      },
      "source": [
        "# Global parameters\n",
        "population_size = 1000\n",
        "N = 14 # The chessboard's size\n",
        "\n",
        "# Initialize a population\n",
        "population = [Individual(N) for i in range(population_size)]\n",
        "for i in population:\n",
        "    # Randomly initialize each individual's genes and calculate their fitness.\n",
        "    i.InitialiseRandom()\n",
        "    i.GetFitness(N)"
      ],
      "execution_count": null,
      "outputs": []
    },
    {
      "cell_type": "markdown",
      "metadata": {
        "id": "kerHUeOQwSHj"
      },
      "source": [
        "Next, we must determine which individuals are good. Indeed, better individuals should be given a higher chance to \"propagate\", just like in nature. For this we use the fitness function.\n",
        "\n",
        "Then there are different ways of selecting parents that are used to create a new population. Below we use tournament selection: A number of individuals are randomly selected, and the \"strongest\" individual from these is added to the parent population. This is repeated until the number of desired parents is reached.\n",
        "\n",
        "Other ways to do parent selection are for example:\n",
        "\n",
        "* Fitness Proportionate Selection\n",
        "* Rank Selection\n",
        "* Random Selection\n",
        "* Reward Based Selection\n",
        "* Age Based Selection\n",
        "* Elitism\n",
        "\n",
        "It depends on the problem which ways work well and which ways work less well."
      ]
    },
    {
      "cell_type": "code",
      "metadata": {
        "id": "I_8WXsHejZEC"
      },
      "source": [
        "# A parent selection mechanism example\n",
        "def TournamentSelection(pop, size, tournament_size):\n",
        "    \"\"\"\n",
        "    Creates a population of parents based on tournament selection: tournament_size\n",
        "    individuals are selected from pop and the one with the highest fitness wins\n",
        "    and is added to the parent population.\n",
        "    :param pop: The population used to select parents from\n",
        "    :param size: the size of the parent population\n",
        "    :param tournament_size: The size of a tournament. Must be smaller than population_size\n",
        "    :return: the parent population\n",
        "    \"\"\"\n",
        "    parent_pop = []\n",
        "    for i in range(size):\n",
        "        # select tournament_size individuals (random sampling without replacement)\n",
        "        tournament = rd.sample(pop, tournament_size)\n",
        "        # select the best individual\n",
        "        winner = np.argmin([i.fitness for i in tournament])\n",
        "        # add it to parent_pop\n",
        "        parent_pop.append(pop[winner])\n",
        "    return(parent_pop)"
      ],
      "execution_count": null,
      "outputs": []
    },
    {
      "cell_type": "markdown",
      "metadata": {
        "id": "iJcfUnevkou-"
      },
      "source": [
        "Next, it is time to create new children. Below we use crossover: One part of one parent is used, and another part of the other (see below).\n",
        "\n",
        "![alt text](https://cdn-images-1.medium.com/max/1600/1*YhmzBBCyAG3rtEBbI0gz4w.jpeg)\n",
        "\n",
        "Here as well, there are other options:\n",
        "\n",
        "*   Single point crossover\n",
        "*   k-point crossover\n",
        "*   Uniform crossover\n",
        "*   Edge recombination\n",
        "\n"
      ]
    },
    {
      "cell_type": "code",
      "metadata": {
        "id": "PvQDF9XHlpIr"
      },
      "source": [
        "def CrossOver(parent1, parent2, k, l):\n",
        "    \"\"\"\n",
        "    crossover applied to two parents\n",
        "    :param parent1: parent 1\n",
        "    :param parent2: parent 2\n",
        "    :param k l: breakpoints of the genen. Before k will be used of parent1, afterwards of parent2\n",
        "    :return: a child with combined genes\n",
        "    \"\"\"\n",
        "\n",
        "    child = []\n",
        "    # Select the to-be-used genes of both parents\n",
        "    childcenter = [parent1.genes[j] for j in range(k,l+1)]\n",
        "    childedges = [parent2.genes[j] for j in range(0,N) if parent2.genes[j] not in childcenter]\n",
        "    # Combine the genes\n",
        "    child[:k] = childedges[:k]\n",
        "    child[k:l+1] = childcenter\n",
        "    child[l+1:] = childedges[k:]\n",
        "\n",
        "    return(child)"
      ],
      "execution_count": null,
      "outputs": []
    },
    {
      "cell_type": "markdown",
      "metadata": {
        "id": "azO0rOSWmGIe"
      },
      "source": [
        "To discover new regions, we can add mutation on the children. Below we apply a swap operation.\n",
        "\n",
        "![alt text](http://www.wardsystems.com/manuals/genehunter/_bm53.png)\n",
        "\n",
        "Two randomly selected genes are swapped. Again, there are other possibilities, such as:\n",
        "\n",
        "*   Bit flip mutation\n",
        "*   Uniform mutation\n",
        "*   Gaussian mutation\n",
        "*   Bit string mutation\n",
        "*   Random Resetting\n",
        "*   Insert\n",
        "*   Scramble\n",
        "*   Inversion\n",
        "*   2-opt\n",
        "*   k-opt\n",
        "\n",
        "Here it also depends on the representation which you can use. In addition, it also depends on the nature of the problem which mutations work well and which ones work badly.\n",
        "\n"
      ]
    },
    {
      "cell_type": "code",
      "metadata": {
        "id": "QLy4O_LcmOdz"
      },
      "source": [
        "def Swap(child, factor):\n",
        "    \"\"\"\n",
        "    Swap two genes\n",
        "    :param child: child to be mutated\n",
        "    :param factor: in (1,2), will we swap one or two genes?\n",
        "    :return: mutated child\n",
        "    \"\"\"\n",
        "\n",
        "    for i in range(factor):\n",
        "        (k, l) = rd.sample(range(N), 2)\n",
        "\n",
        "        # swap two genes\n",
        "        old = child[k]\n",
        "        child[k] = child[l]\n",
        "        child[l] = old\n",
        "\n",
        "    return(child)"
      ],
      "execution_count": null,
      "outputs": []
    },
    {
      "cell_type": "markdown",
      "metadata": {
        "id": "5NrzJ-rRr6kP"
      },
      "source": [
        "Thus, a lot of children can be created. Of course, some children will have lower fitness than their parents, but some will also have higher fitness. By applying the survival of the fittest principle, better children have a higher chance of reproducing, so in the long run the whole population will become better and stronger genes will survive.\n",
        "\n",
        "Herein it is important to make a good trade-off between \"exploration\" and \"optimization\". A high mutation factor and a lot of crossover will ensure that many new areas are discovered, but if the selection pressure is too low (less fit individuals get too high a chance to reproduce), the population will not improve. On the other hand, if the selection pressure is too high, the algorithm may get into a local optimum too quickly, so other good solutions may be missed.\n",
        "\n",
        "Below is a description of the entire evolutionary cycle. The algorithm stops when the fitness of the best individual is 0, that is, when a solution has been reached."
      ]
    },
    {
      "cell_type": "code",
      "metadata": {
        "id": "MW4rLULJtrY7"
      },
      "source": [
        "def GetBest(population):\n",
        "    \"\"\"\n",
        "    :param: the current population\n",
        "    :return: return the best individual of the current population\n",
        "    \"\"\"\n",
        "    best = np.argmin([i.fitness for i in population])\n",
        "    return(population[best])\n",
        "\n",
        "# Global parameters\n",
        "tournament_size = 20 # Tournament size\n",
        "parent_size = 500 # Parent set size\n",
        "mutation_factor = 0.8 # The chance of a single mutation\n",
        "mutation_factor_double = 0.5 # The chance of a double mution, in case of a single\n",
        "\n",
        "# Evolutionary cycle\n",
        "i = 0\n",
        "start_time = time.time()\n",
        "while GetBest(population).fitness > 0:\n",
        "    if i%10 == 0:\n",
        "        print(\"iteratie\", i)\n",
        "    # Select parents\n",
        "    parents = TournamentSelection(population, parent_size, tournament_size)\n",
        "    childs = []\n",
        "    # Add the best individual of the previous population (Elitism)\n",
        "    childs.append(GetBest(population))\n",
        "    while len(childs) < population_size:\n",
        "        # Select parents from the parent set\n",
        "        parent1 = rd.sample(parents, 1)[0]\n",
        "        parent2 = rd.sample(parents, 1)[0]\n",
        "        # Create two children (opposites of each other)\n",
        "        (a,b) = rd.sample(range(N),2)\n",
        "        k = min(a,b)\n",
        "        l = max(a,b)\n",
        "        child1 = CrossOver(parent1, parent2, k, l)\n",
        "        child2 = CrossOver(parent2, parent1, k ,l)\n",
        "\n",
        "        if bool(np.random.binomial(1, mutation_factor)):\n",
        "            if bool(np.random.binomial(1, mutation_factor_double)):\n",
        "                # Double mutation\n",
        "                child1 = Swap(child1, 2)\n",
        "            else:\n",
        "                # Single mutation\n",
        "                child1 = Swap(child1, 1)\n",
        "        if bool(np.random.binomial(1, mutation_factor)):\n",
        "            if bool(np.random.binomial(1, mutation_factor_double)):\n",
        "                # Double mutatino\n",
        "                child2 = Swap(child2, 2)\n",
        "            else:\n",
        "                # Single mutation\n",
        "                child2 = Swap(child2, 1)\n",
        "        # Append children\n",
        "        childs.append(Individual(N, genes= child1))\n",
        "        childs.append(Individual(N, genes= child2))\n",
        "\n",
        "    # Update the population\n",
        "    population = childs\n",
        "    # Calculate the new population's fitness\n",
        "    [i.GetFitness(N) for i in population]\n",
        "    i = i + 1\n",
        "\n",
        "end_time = time.time() - start_time\n",
        "print(\"Solution found\")"
      ],
      "execution_count": null,
      "outputs": []
    },
    {
      "cell_type": "markdown",
      "metadata": {
        "id": "Y3A1x09mwtLp"
      },
      "source": [
        "Finally: print the solution"
      ]
    },
    {
      "cell_type": "code",
      "metadata": {
        "id": "f1QNNM9DwsCq"
      },
      "source": [
        "print(\"Solution found: \", GetBest(population).genes)\n",
        "print(\"After \" + str(i) + \" iterations and \" + str(end_time) + \" seconds.\")"
      ],
      "execution_count": null,
      "outputs": []
    },
    {
      "cell_type": "markdown",
      "metadata": {
        "id": "hyYieBISwwBN"
      },
      "source": [
        "So the code above works pretty fast considering there are N! configurations. By playing with the parameter settings, it could probably be even faster.\n",
        "\n",
        "Above, the basics of an evolutionary algorithm are described. Of course, many extensions and modifications are possible. One can think of\n",
        "\n",
        "* Parameters can change over time\n",
        "* Parameters can also evaluate\n",
        "* Why limit yourself to the laws of nature? 3 or more parents on a computer is also possible\n",
        "* Different crossover and mutation methods in the same algorithm\n",
        "* etc."
      ]
    }
  ]
}