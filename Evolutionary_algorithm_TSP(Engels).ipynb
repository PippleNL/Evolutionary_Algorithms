{
  "cells": [
    {
      "cell_type": "markdown",
      "metadata": {
        "id": "Y4EqLSdNFpBc"
      },
      "source": [
        "The purpose of this tutorial is to find a good solution for the [traveling salesman problem](https://en.wikipedia.org/wiki/Travelling_salesman_problem) by using an evolutionary algorithm. To do this, you can use the functions used in the N-queens problem, or add your own. The notebook of the N-queens problem describes several options for crossover, mutation, and parent selection.\n",
        "\n",
        "By 3:45 pm, send a .txt file with the best solution you found to annemarijn@pipple.nl. The format for the solution and how to write it to the correct format is already described in this notebook.\n",
        "\n",
        "---\n",
        "\n",
        "We use a dataset of all places in Oman, the distances are symmetric (from A to B is as far as from B to A). We have already done some preliminary work, so that you will spend less time on data preprocessing and all kinds of boundary conditions, so that you can focus as much as possible on the evolutionary algorithm. Below, the data is read in from github."
      ]
    },
    {
      "cell_type": "code",
      "execution_count": null,
      "metadata": {
        "id": "pu5qvB_8GQ6W"
      },
      "outputs": [],
      "source": [
        "url = \"https://raw.githubusercontent.com/LarsPipple/Pipple_lecture/master/TSP_Oman.txt\"\n",
        "\n",
        "import pandas as pd\n",
        "X = pd.read_csv(url, sep = ' ', header = None)\n",
        "X.columns = ['ID', 'X', 'Y']\n",
        "N = X.shape[0]"
      ]
    },
    {
      "cell_type": "markdown",
      "metadata": {
        "id": "Hl0yO4ZMpq83"
      },
      "source": [
        "Obviously, we need the distance matrix to do calculations. The input data are coordinates, so we can calculate the distance between place i and j with the Pythagorean theorem (Euclidean distance). Since there are quite some cities, the code below may take a while."
      ]
    },
    {
      "cell_type": "code",
      "execution_count": null,
      "metadata": {
        "id": "Nr726Kz0qjXP"
      },
      "outputs": [],
      "source": [
        "import numpy as np\n",
        "import math\n",
        "\n",
        "v = X[['X','Y']].values\n",
        "dist = lambda p1, p2: math.sqrt(((p1-p2)**2).sum())\n",
        "distance_matrix = np.zeros((N,N))\n",
        "distance_matrix = np.asarray([[dist(p1, p2) for p2 in v] for p1 in v])"
      ]
    },
    {
      "cell_type": "markdown",
      "metadata": {
        "id": "jXlX-hJZGno8"
      },
      "source": [
        "In addition, we would like to know how long a given route is. For this you can use the function below."
      ]
    },
    {
      "cell_type": "code",
      "execution_count": null,
      "metadata": {
        "id": "cjyB2Oh0GnDx"
      },
      "outputs": [],
      "source": [
        "def getObjValue(solution):\n",
        "    objective_value = 0\n",
        "    for i in range(N - 1):\n",
        "        # Sum the distance from i to i + 1\n",
        "        objective_value += distance_matrix[solution[i]][solution[i+1]]\n",
        "    # Add the distance from the last city back to the first\n",
        "    objective_value += distance_matrix[solution[N - 1]][solution[0]]\n",
        "    return objective_value"
      ]
    },
    {
      "cell_type": "markdown",
      "metadata": {
        "id": "xFr-OfWLH0mi"
      },
      "source": [
        "An example solution is to visit all the cities in the order of how they appear in the dataset."
      ]
    },
    {
      "cell_type": "code",
      "execution_count": null,
      "metadata": {
        "id": "AN1cB97FIoKy"
      },
      "outputs": [],
      "source": [
        "solution = list(range(N))"
      ]
    },
    {
      "cell_type": "markdown",
      "metadata": {
        "id": "BIb8dveiKJY7"
      },
      "source": [
        "Below is a function to plot a solution on a map."
      ]
    },
    {
      "cell_type": "code",
      "execution_count": null,
      "metadata": {
        "id": "uYRfzWP9KKOc"
      },
      "outputs": [],
      "source": [
        "import matplotlib.pyplot as plt\n",
        "\n",
        "def plotSolution(solution):\n",
        "    # Plot the cities\n",
        "    plt.plot(X['Y'], X['X'], ',')\n",
        "    # Plot the lines from the current solution\n",
        "    for i in range(N - 1):\n",
        "            plt.arrow(X.iloc[solution[i]]['Y'], X.iloc[solution[i]]['X'],\n",
        "                     (X.iloc[solution[i+1]]['Y'] - X.iloc[solution[i]]['Y']),\n",
        "                     (X.iloc[solution[i+1]]['X'] - X.iloc[solution[i]]['X']))\n",
        "    plt.arrow(X.iloc[solution[N - 1]]['Y'], X.iloc[solution[N - 1]]['X'],\n",
        "             (X.iloc[solution[0]]['Y'] - X.iloc[solution[N - 1]]['Y']),\n",
        "             (X.iloc[solution[0]]['X'] - X.iloc[solution[N - 1]]['X']))\n",
        "    plt.xlabel('X-coordinate')\n",
        "    plt.ylabel('Y-coordinate')\n",
        "    plt.show()"
      ]
    },
    {
      "cell_type": "markdown",
      "metadata": {
        "id": "nHYUdDtxJQ4L"
      },
      "source": [
        "What does our solution look like on the map? And what distance does our route have?"
      ]
    },
    {
      "cell_type": "code",
      "execution_count": null,
      "metadata": {
        "id": "zBtqTIemJVMq"
      },
      "outputs": [],
      "source": [
        "print(f\"Solution value: {getObjValue(solution)}\")\n",
        "plotSolution(solution)"
      ]
    },
    {
      "cell_type": "markdown",
      "metadata": {
        "id": "DA8DfrfKMsYT"
      },
      "source": [
        "It may seem that this is not a solution to the problem, but that there are many more lines. However, this is not the case: in the data set there are a lot of coordinates that are very close to each other, which makes it look like a city is visited more than once. However, that there is room for improvement is clear: That is up to you! You can use the notebook of the N-queens problem as a source of inspiration (e.g. the class individual is also suitable for this algorithm), but for a really good and personal algorithm, you can of course also add new functions to the evolutionary algorithm! Below already a framework you can use as a starting point for your algorithm."
      ]
    },
    {
      "cell_type": "markdown",
      "metadata": {
        "id": "d1gWkvLVwIDj"
      },
      "source": [
        "First of all, a class for creating individual solutions. In principle nothing needs to be changed, although the initial generation of solutions is now completely random. Here you could possibly adjust things."
      ]
    },
    {
      "cell_type": "code",
      "execution_count": null,
      "metadata": {
        "id": "KE8f7XeYwGxF"
      },
      "outputs": [],
      "source": [
        "import random as rd\n",
        "\n",
        "# Generate class individuals\n",
        "class Individual:\n",
        "    def __init__(self, length, genes = None):\n",
        "        self.length = length\n",
        "        self.fitness = None\n",
        "        if genes is not None:\n",
        "            self.genes = genes\n",
        "        else:\n",
        "            self.genes = []*length\n",
        "\n",
        "\n",
        "    # Randomly initialize genes                                   --- Own input possible\n",
        "    def Initialise(self):\n",
        "        self.genes = rd.sample(range(self.length), self.length)\n",
        "\n",
        "    # Create a fitness function to calculate how \"good\" the current individual is\n",
        "    # (is identical to getObjValue(solution) of above)\n",
        "    def GetFitness(self, N):\n",
        "        \"\"\"\n",
        "        Calculate an individual's fitness\n",
        "        :param self: individual\n",
        "        \"\"\"\n",
        "        objective_value = 0\n",
        "        for i in range(N-1):\n",
        "            # Sum the distance from i to i + 1\n",
        "            objective_value += distance_matrix[self.genes[i]][self.genes[i+1]]\n",
        "        # Add the distance from the last city back to the first\n",
        "        objective_value += distance_matrix[self.genes[N - 1]][self.genes[0]]\n",
        "        self.fitness = objective_value\n",
        "\n",
        "    # Function to be able to iterate over the class\n",
        "    def __getitem__(self, key):\n",
        "        return self.genes[key]"
      ]
    },
    {
      "cell_type": "markdown",
      "metadata": {
        "id": "snjpNhvMxbkG"
      },
      "source": [
        "Parent selection: Select a group of parents from the current population. Here the same method is used as in the N-queens problem: Tournament Selection. This will work just fine but another method of parent selection might work better, like fitness proportional selection or rank based selection."
      ]
    },
    {
      "cell_type": "code",
      "execution_count": null,
      "metadata": {
        "id": "L1RirLLMxcFe"
      },
      "outputs": [],
      "source": [
        "def TournamentSelection(pop, size, tournament_size):\n",
        "    \"\"\"\n",
        "    Creates a population of parents based on tournament selection: tournament_size\n",
        "    individuals are selected from pop and the one with the highest fitness wins\n",
        "    and is added to the parent population.\n",
        "    :param pop: The population used to select parents from\n",
        "    :param size: the size of the parent population\n",
        "    :param tournament_size: The size of a tournament. Must be smaller than population_size\n",
        "    :return: the parent population\n",
        "    \"\"\"\n",
        "    parent_pop = []\n",
        "    for i in range(size):\n",
        "        # select tournament_size individuals (random sampling without replacement)\n",
        "        tournament = rd.sample(pop, tournament_size)\n",
        "        # select the best individual\n",
        "        winner = np.argmin([i.fitness for i in tournament])\n",
        "        # add it to parent_pop\n",
        "        parent_pop.append(pop[winner])\n",
        "    return(parent_pop)"
      ]
    },
    {
      "cell_type": "markdown",
      "metadata": {
        "id": "Z6SFDVvxyMJa"
      },
      "source": [
        "Cross over: Generate a child based on two parents. This is done in the same way as for the N-queens problem. Other methods are also possible here, google is your friend ;)"
      ]
    },
    {
      "cell_type": "code",
      "execution_count": null,
      "metadata": {
        "id": "-izohtB8yLty"
      },
      "outputs": [],
      "source": [
        "def CrossOver(parent1, parent2, k, l):\n",
        "    \"\"\"\n",
        "    crossover applied to two parents\n",
        "    :param parent1: parent 1\n",
        "    :param parent2: parent 2\n",
        "    :param k l: breakpoints of the genen. Before k will be used of parent1, afterwards of parent2\n",
        "    :return: a child with combined genes\n",
        "    \"\"\"\n",
        "\n",
        "    child = []\n",
        "    # Select the to-be-used genes of both parents\n",
        "    childcenter = [parent1.genes[j] for j in range(k,l+1)]\n",
        "    childedges = [parent2.genes[j] for j in range(0,N) if parent2.genes[j] not in childcenter]\n",
        "    # Combine the genes\n",
        "    child[:k] = childedges[:k]\n",
        "    child[k:l+1] = childcenter\n",
        "    child[l+1:] = childedges[k:]\n",
        "\n",
        "    return(child)"
      ]
    },
    {
      "cell_type": "markdown",
      "metadata": {
        "id": "5owzkqNWyabg"
      },
      "source": [
        "Child mutation: Mutate a child in a certain way. Currently swap is used, as in the N-queens problem. But you could also use k-opt, scramble or insert."
      ]
    },
    {
      "cell_type": "code",
      "execution_count": null,
      "metadata": {
        "id": "dI_OvS5cybRn"
      },
      "outputs": [],
      "source": [
        "def Swap(child, size):\n",
        "    \"\"\"\n",
        "    Swap two genes\n",
        "    :param child: child to be mutated\n",
        "    :param factor: in (1,2), will we swap one or two genes?\n",
        "    :return: mutated child\n",
        "    \"\"\"\n",
        "\n",
        "    for i in range(size):\n",
        "      # do a swap\n",
        "      gene1 = rd.sample(range(N),1)[0]\n",
        "      gene2 = rd.sample(range(N),1)[0]\n",
        "      old = child[gene1]\n",
        "      child[gene1] = child[gene2]\n",
        "      child[gene2] = old\n",
        "\n",
        "    return(child)"
      ]
    },
    {
      "cell_type": "markdown",
      "metadata": {
        "id": "GtVjZqEYyi2P"
      },
      "source": [
        "Get best: obtain the best current solution from the population. In this, in principle, nothing needs to be changed."
      ]
    },
    {
      "cell_type": "code",
      "execution_count": null,
      "metadata": {
        "id": "dh2jD4-Nyjl6"
      },
      "outputs": [],
      "source": [
        "def GetBest(population):\n",
        "    \"\"\"\n",
        "    :param: the current population\n",
        "    :return: return the best individual of the current population\n",
        "    \"\"\"\n",
        "    best = np.argmin([i.fitness for i in population])\n",
        "    return(population[best])"
      ]
    },
    {
      "cell_type": "markdown",
      "metadata": {
        "id": "XfWMPcQv1J0D"
      },
      "source": [
        "The core of the code: calling all the functions. In this, anything you want can be modified. What should be adapted in any case is the while loop: when are you satisfied with the solution found?"
      ]
    },
    {
      "cell_type": "code",
      "execution_count": null,
      "metadata": {
        "colab": {
          "background_save": true
        },
        "id": "HvrYmfJqKmJT"
      },
      "outputs": [],
      "source": [
        "# Global parameters\n",
        "population_size = 10  # Input parameter which can be changed\n",
        "\n",
        "# You could add other global parameters\n",
        "tournament_size = 4\n",
        "parent_size = 6\n",
        "mutation_factor = 1\n",
        "children_size = 50\n",
        "\n",
        "# Initialize the population\n",
        "population = [Individual(N) for i in range(population_size)]\n",
        "for i in population:\n",
        "    # Initialize randomly and calculate each individual's fitness\n",
        "    i.Initialise()\n",
        "    i.GetFitness(N)\n",
        "population[0] = Individual(N,genes=solution)\n",
        "population[0].GetFitness(N)\n",
        "\n",
        "# Evolutionary cycle\n",
        "\n",
        "i = 0\n",
        "#while not Stopping condition:\n",
        "while GetBest(population).fitness > 100000:   # This stopping condition can be adjusted\n",
        "    # Select parents\n",
        "    parents = TournamentSelection(population, parent_size, tournament_size)\n",
        "\n",
        "    childs = []\n",
        "\n",
        "    # Transfer the best children to the childrenset\n",
        "    childs.append(GetBest(population))\n",
        "\n",
        "    while len(childs) < children_size:\n",
        "\n",
        "        # Select parents from the parent set\n",
        "        parent1 = rd.sample(parents, 1)[0]\n",
        "        parent2 = rd.sample(parents, 1)[0]\n",
        "\n",
        "        # Create children by applying crossover\n",
        "        (a,b) = rd.sample(range(N),2)\n",
        "        k = min(a,b)\n",
        "        l = max(a,b)\n",
        "        child1 = CrossOver(parent1, parent2, k, l)\n",
        "        child2 = CrossOver(parent2, parent1, k ,l)\n",
        "\n",
        "        # Apply mutation to those children\n",
        "        child1 = Swap(child1, mutation_factor)\n",
        "        child2 = Swap(child2, mutation_factor)\n",
        "\n",
        "        # Update children\n",
        "        childs.append(Individual(N,genes=child1))\n",
        "        childs.append(Individual(N,genes=child2))\n",
        "\n",
        "    # Update population\n",
        "    # Calculate fitness\n",
        "    [i.GetFitness(N) for i in childs]\n",
        "    idx = np.argpartition([i.fitness for i in childs], population_size)\n",
        "    index = [i for i in idx[:population_size]]\n",
        "    population = [childs[i] for i in index]\n",
        "\n",
        "    i = i + 1\n",
        "    if i%10 == 0:\n",
        "      print(str(GetBest(population).fitness) + \" after iteration \" + str(i))\n",
        "\n",
        "\n",
        "GetBest(population)\n",
        "\n",
        "print(\"Solution found\")"
      ]
    },
    {
      "cell_type": "markdown",
      "metadata": {
        "id": "uyX3M4qDKD9L"
      },
      "source": [
        "Please send your solution in .txt format to annemarijn@pipple.nl no later than 3:45pm. You can use the function below to get your solution to .txt format."
      ]
    },
    {
      "cell_type": "code",
      "execution_count": null,
      "metadata": {
        "id": "pSEvLOQ-N7y8"
      },
      "outputs": [],
      "source": [
        "from google.colab import files\n",
        "def writetxt(solution, team_name = 'name'):\n",
        "    with open(team_name + '.txt', 'w') as f:\n",
        "        for i in solution:\n",
        "            f.write(\"%s\\n\" % i)\n",
        "    f.close()\n",
        "    files.download(team_name + '.txt')"
      ]
    },
    {
      "cell_type": "code",
      "execution_count": null,
      "metadata": {
        "id": "045K1lIrPb_U"
      },
      "outputs": [],
      "source": [
        "writetxt(GetBest(population), team_name = \"test2\")"
      ]
    }
  ],
  "metadata": {
    "colab": {
      "provenance": []
    },
    "kernelspec": {
      "display_name": "Python 3",
      "name": "python3"
    }
  },
  "nbformat": 4,
  "nbformat_minor": 0
}