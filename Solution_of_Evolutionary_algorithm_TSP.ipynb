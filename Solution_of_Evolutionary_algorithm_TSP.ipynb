{
  "nbformat": 4,
  "nbformat_minor": 0,
  "metadata": {
    "colab": {
      "name": "Solution of Evolutionary_algorithm_TSP.ipynb",
      "version": "0.3.2",
      "provenance": [],
      "collapsed_sections": []
    },
    "kernelspec": {
      "name": "python3",
      "display_name": "Python 3"
    }
  },
  "cells": [
    {
      "cell_type": "markdown",
      "metadata": {
        "id": "Y4EqLSdNFpBc",
        "colab_type": "text"
      },
      "source": [
        "Het doel van deze tutorial is om een goede oplossing te vinden voor het [traveling salesman probleem](https://en.wikipedia.org/wiki/Travelling_salesman_problem) door gebruik te maken van een evolutionair algoritme. Hiervoor kun je de functies gebruiken die bij het N-queens probleem gebruikt zijn, of je eigen functies toevoegen. In het notebook van het N-queens probleem staan verschillende opties beschreven voor crossover, mutatie en parent selectie.\n",
        "\n",
        "---\n",
        "Hierin staat onze oplossing beschreven. Let wel, dit is niet dé oplossing. Meerdere wegen leiden naar Rome en deze oplossing werkt voor ons naar behoren en kan relatief snel een goede oplossing vinden. De optimale oplossing van de gegeven dataset heeft een afstand van 79114 kilometer\n",
        "\n"
      ]
    },
    {
      "cell_type": "code",
      "metadata": {
        "id": "pu5qvB_8GQ6W",
        "colab_type": "code",
        "colab": {}
      },
      "source": [
        "url = \"https://raw.githubusercontent.com/LarsPipple/Pipple_lecture/master/TSP_Uruguay.txt\"\n",
        "\n",
        "import pandas as pd\n",
        "X = pd.read_csv(url, sep = ' ', header = None)\n",
        "X.columns = ['ID', 'X', 'Y']\n",
        "N = X.shape[0]"
      ],
      "execution_count": 0,
      "outputs": []
    },
    {
      "cell_type": "markdown",
      "metadata": {
        "id": "Hl0yO4ZMpq83",
        "colab_type": "text"
      },
      "source": [
        "Uiteraard hebben we de distance matrix nodig om berekeningen te kunnen doen. De inputdata zijn coördinaten, dus we kunnen de afstand tussen plaats i en j berekenen met de stelling van Pythagoras (Euclidische afstand). Aangezien het flink wat steden zijn, kan de code hieronder even duren."
      ]
    },
    {
      "cell_type": "code",
      "metadata": {
        "id": "Nr726Kz0qjXP",
        "colab_type": "code",
        "colab": {}
      },
      "source": [
        "import numpy as np\n",
        "import math\n",
        "\n",
        "v = X[['X','Y']].values\n",
        "dist = lambda p1, p2: math.sqrt(((p1-p2)**2).sum())\n",
        "distance_matrix = np.zeros((N,N))\n",
        "distance_matrix = np.asarray([[dist(p1, p2) for p2 in v] for p1 in v])"
      ],
      "execution_count": 0,
      "outputs": []
    },
    {
      "cell_type": "markdown",
      "metadata": {
        "id": "jXlX-hJZGno8",
        "colab_type": "text"
      },
      "source": [
        "Daarnaast willen we graag weten hoe lang een gegeven route is. Hiervoor kun je onderstaande functie gebruiken."
      ]
    },
    {
      "cell_type": "code",
      "metadata": {
        "id": "cjyB2Oh0GnDx",
        "colab_type": "code",
        "colab": {}
      },
      "source": [
        "def getObjValue(solution):\n",
        "    objective_value = 0\n",
        "    for i in range(N - 1):\n",
        "        # Sum the distance from i to i + 1\n",
        "        objective_value += distance_matrix[solution[i]][solution[i+1]]\n",
        "    # Add the distance from the last city back to the first\n",
        "    objective_value += distance_matrix[solution[N - 1]][solution[0]]\n",
        "    return objective_value"
      ],
      "execution_count": 0,
      "outputs": []
    },
    {
      "cell_type": "markdown",
      "metadata": {
        "id": "xFr-OfWLH0mi",
        "colab_type": "text"
      },
      "source": [
        "Een voorbeeld van een oplossing is om alle steden te bezoeken in de volgorde van hoe ze voorkomen in de dataset."
      ]
    },
    {
      "cell_type": "code",
      "metadata": {
        "id": "AN1cB97FIoKy",
        "colab_type": "code",
        "colab": {}
      },
      "source": [
        "solution = list(range(N))"
      ],
      "execution_count": 0,
      "outputs": []
    },
    {
      "cell_type": "markdown",
      "metadata": {
        "id": "BIb8dveiKJY7",
        "colab_type": "text"
      },
      "source": [
        "Hieronder een functie om een oplossing te plotten op een kaartje"
      ]
    },
    {
      "cell_type": "code",
      "metadata": {
        "id": "uYRfzWP9KKOc",
        "colab_type": "code",
        "colab": {}
      },
      "source": [
        "import matplotlib.pyplot as plt\n",
        "\n",
        "def plotSolution(solution):\n",
        "    # Plot the cities\n",
        "    plt.plot(X['Y'], X['X'], ',')\n",
        "    # Plot the lines from the current solution\n",
        "    for i in range(N - 1):\n",
        "            plt.arrow(X.iloc[solution[i]]['Y'], X.iloc[solution[i]]['X'],\n",
        "                     (X.iloc[solution[i+1]]['Y'] - X.iloc[solution[i]]['Y']),\n",
        "                     (X.iloc[solution[i+1]]['X'] - X.iloc[solution[i]]['X']))\n",
        "    plt.arrow(X.iloc[solution[N - 1]]['Y'], X.iloc[solution[N - 1]]['X'],\n",
        "             (X.iloc[solution[0]]['Y'] - X.iloc[solution[N - 1]]['Y']),\n",
        "             (X.iloc[solution[0]]['X'] - X.iloc[solution[N - 1]]['X']))\n",
        "    plt.xlabel('X-coordinate')\n",
        "    plt.ylabel('Y-coordinate')\n",
        "    plt.show()"
      ],
      "execution_count": 0,
      "outputs": []
    },
    {
      "cell_type": "markdown",
      "metadata": {
        "id": "nHYUdDtxJQ4L",
        "colab_type": "text"
      },
      "source": [
        "Hoe zit onze oplossing eruit op de kaart? En welke afstand heeft onze route?"
      ]
    },
    {
      "cell_type": "code",
      "metadata": {
        "id": "zBtqTIemJVMq",
        "colab_type": "code",
        "outputId": "75e9e4a7-c158-4e31-9425-2d1407e37c58",
        "colab": {
          "base_uri": "https://localhost:8080/",
          "height": 300
        }
      },
      "source": [
        "print(getObjValue(solution))\n",
        "plotSolution(solution)"
      ],
      "execution_count": 6,
      "outputs": [
        {
          "output_type": "stream",
          "text": [
            "844745.5838973318\n"
          ],
          "name": "stdout"
        },
        {
          "output_type": "display_data",
          "data": {
            "image/png": "[encoded data removed]",
            "text/plain": [
              "<Figure size 432x288 with 1 Axes>"
            ]
          },
          "metadata": {
            "tags": []
          }
        }
      ]
    },
    {
      "cell_type": "markdown",
      "metadata": {
        "id": "DA8DfrfKMsYT",
        "colab_type": "text"
      },
      "source": [
        "Het lijkt misschien alsof dit geen oplossing is tot het probleem, maar dat er veel meer lijnen staan. Dit is echter niet zo: in de dataset zitten een heel aantal coördinaten die héél dicht dicht bij elkaar liggen, waardoor het lijkt alsof een stad meer dan een keer bezocht wordt. Echter, dat er ruimte voor verbetering is, is duidelijk: Dat is aan jullie! Het notebook van het N-queens probleem kun je als inspiratiebron gebruiken (de class individual is bijvoorbeeld ook voor dit algoritme geschikt), maar voor een echt goed én persoonlijk algoritme, kun je natuurlijk ook nieuwe functies toevoegen aan het evolutionaire algoritme! Hieronder al een framework die je als uitgangsbasis kan gebruiken voor je algoritme."
      ]
    },
    {
      "cell_type": "markdown",
      "metadata": {
        "id": "d1gWkvLVwIDj",
        "colab_type": "text"
      },
      "source": [
        "Om te beginnen, een class voor het aanmaken van individuele oplossingen. Hierin hoeft in principe niets te worden aangepast, al gaat de initiele generatie van oplossingen nu volledig random. Hier zou je eventueel dingen in aan kunnen passen."
      ]
    },
    {
      "cell_type": "code",
      "metadata": {
        "id": "KE8f7XeYwGxF",
        "colab_type": "code",
        "colab": {}
      },
      "source": [
        "import random as rd\n",
        "\n",
        "# Maak class individual aan\n",
        "class Individual:\n",
        "    def __init__(self, length, genes = None):\n",
        "        self.length = length\n",
        "        self.fitness = None\n",
        "        if genes is not None:\n",
        "            self.genes = genes\n",
        "        else:\n",
        "            self.genes = []*length\n",
        "\n",
        "\n",
        "    # Initialiseer de genen random                                    --- Own input possible\n",
        "    def Initialise(self):\n",
        "        self.genes = rd.sample(range(self.length), self.length)\n",
        "\n",
        "    # Maak een fitness functie om te berekenen hoe goed de huidige individu is (is identiek aan getObjValue(solution) van zojuist)\n",
        "    def GetFitness(self, N):\n",
        "        \"\"\"\n",
        "        Berekent de fitness van een individual\n",
        "        :param self: individual\n",
        "        \"\"\"\n",
        "        objective_value = 0\n",
        "        for i in range(N-1):\n",
        "            # Sum the distance from i to i + 1\n",
        "            objective_value += distance_matrix[self.genes[i]][self.genes[i+1]]\n",
        "        # Add the distance from the last city back to the first\n",
        "        objective_value += distance_matrix[self.genes[N - 1]][self.genes[0]]\n",
        "        self.fitness = objective_value\n",
        "    \n",
        "    # Dunder function om te kunnen itereren over de class\n",
        "    def __getitem__(self, key):\n",
        "        return self.genes[key]"
      ],
      "execution_count": 0,
      "outputs": []
    },
    {
      "cell_type": "markdown",
      "metadata": {
        "id": "snjpNhvMxbkG",
        "colab_type": "text"
      },
      "source": [
        "Parent selection: Er zijn meerdere manieren om dit te doen, hieronder zijn er een aantal beschreven."
      ]
    },
    {
      "cell_type": "code",
      "metadata": {
        "id": "L1RirLLMxcFe",
        "colab_type": "code",
        "colab": {}
      },
      "source": [
        "# Tournament Selection\n",
        "def TournamentSelection(pop, size, tournament_size):\n",
        "    \"\"\"\n",
        "    Geeft een populatie van parents op basis van tournament selection: Er worden tournament_size individuen geselecteerd\n",
        "     uit pop waarvan degene met de hoogste fitness wint en toegevoegd wordt aan de parent populatie\n",
        "    :param pop: De populatie die gebruikt wordt om parents van te selecteren\n",
        "    :param size: De grootte van de parent populatie\n",
        "    :param tournament_size: De grootte van een toernooi. Moet kleiner zijn dan population_size\n",
        "    :return: de parent populatie\n",
        "    \"\"\"\n",
        "    parent_pop = []\n",
        "    for i in range(size):\n",
        "        # selecteer tournament_size individuals (random sampling without replacement)\n",
        "        tournament = rd.sample(pop, tournament_size)\n",
        "        # selecteer de beste individual\n",
        "        winner = np.argmin([i.fitness for i in tournament])\n",
        "        # voeg deze toe aan parent_pop\n",
        "        parent_pop.append(pop[winner])\n",
        "    return(parent_pop)"
      ],
      "execution_count": 0,
      "outputs": []
    },
    {
      "cell_type": "code",
      "metadata": {
        "id": "xEoPQ9Ukp6B6",
        "colab_type": "code",
        "colab": {}
      },
      "source": [
        "# Fitness Proportional Selection\n",
        "def FitnessProportionalSelection(pop, size):\n",
        "    \"\"\"\n",
        "    Fitness Proportional Selection: Selecteer individuen op basis van hun fitness.\n",
        "    Gebruik roulette wheel (stochastic universal sampling) om parents te selecteren\n",
        "    :param pop: De populatie de gebruikt wordt om parents van te selecteren\n",
        "    :param size: De grootte van de parent populatie\n",
        "    \"\"\"\n",
        "    # Bereken de som van alle fitnesses (als normalizing factor). 1/antwoord om van min naar max probleem te komen\n",
        "    S = sum([1.0/(i.fitness) for i in pop])\n",
        "    # Afstand tussen ieder geselecteerd individu\n",
        "    pointer_dist = S/size\n",
        "    # Selecteer een random nummer tussen 0 en pointer_dist\n",
        "    start = rd.uniform(0,pointer_dist)\n",
        "    pointers = [start + i*pointer_dist for i in range(size)]\n",
        "    \n",
        "    parent_pop = []\n",
        "    # Stochastic Universal Sampling: https://en.wikipedia.org/wiki/Stochastic_universal_sampling\n",
        "    for p in pointers:\n",
        "        i = 0\n",
        "        # Zolang de som van de fitness van de individuen tot i lager is dan p, increment i\n",
        "        while sum([1.0/(i.fitness) for i in pop[0:(i+1)]]) < p:\n",
        "            i = i + 1\n",
        "        # Als hij hoger gaat, voeg dan deze individu toe aan de populatie           \n",
        "        parent_pop.append(pop[i])\n",
        "    \n",
        "    # Het is mogelijk dat hetzelfde individu meerdere keren voorkomt\n",
        "    return(parent_pop)"
      ],
      "execution_count": 0,
      "outputs": []
    },
    {
      "cell_type": "code",
      "metadata": {
        "id": "Y-kncwG8yQ4b",
        "colab_type": "code",
        "colab": {}
      },
      "source": [
        "# Rank Based Selection\n",
        "def RankBasedSelection(pop, size):\n",
        "    \"\"\"\n",
        "    Rank Based Selection: Selecteer individuen op basis van hun relatieve fitness t.o.v. de andere individuen.\n",
        "    :param pop: De populatie de gebruikt wordt om parents van te selecteren\n",
        "    :param size: De grootte van de parent populatie\n",
        "    \"\"\"\n",
        "    # Sorteer de populatie op basis van hun fitness\n",
        "    import operator\n",
        "    pop.sort(key=operator.attrgetter('fitness'))\n",
        "    \n",
        "    # Calculate the fitness of the rank\n",
        "    rank_fitness = [1.0/i for i in range(1,len(pop)+1)]\n",
        "    \n",
        "    # The remaining steps are the same as for fitness proportionate selection\n",
        "    S = sum([i for i in rank_fitness])\n",
        "    # Afstand tussen ieder geselecteerd individu\n",
        "    pointer_dist = S/size\n",
        "    # Selecteer een random nummer tussen 0 en pointer_dist\n",
        "    start = rd.uniform(0,pointer_dist)\n",
        "    pointers = [start + i*pointer_dist for i in range(size)]\n",
        "    \n",
        "    parent_pop = []\n",
        "    # Stochastic Universal Sampling: https://en.wikipedia.org/wiki/Stochastic_universal_sampling\n",
        "    for p in pointers:\n",
        "        i = 0\n",
        "        # Zolang de som van de fitness van de individuen tot i lager is dan p, increment i\n",
        "        while sum([i for i in rank_fitness[0:(i+1)]]) < p:\n",
        "            i = i + 1\n",
        "        # Als hij hoger gaat, voeg dan deze individu toe aan de populatie           \n",
        "        parent_pop.append(pop[i])\n",
        "    \n",
        "    # Het is mogelijk dat hetzelfde individu meerdere keren voorkomt\n",
        "    return(parent_pop)"
      ],
      "execution_count": 0,
      "outputs": []
    },
    {
      "cell_type": "markdown",
      "metadata": {
        "id": "Z6SFDVvxyMJa",
        "colab_type": "text"
      },
      "source": [
        "Cross over: Ook hier zijn er meerdere manieren om dit te doen"
      ]
    },
    {
      "cell_type": "code",
      "metadata": {
        "id": "-izohtB8yLty",
        "colab_type": "code",
        "colab": {}
      },
      "source": [
        "# Partially Mixed Crossover\n",
        "def CrossOver(parent1, parent2, k, l):\n",
        "    \"\"\"\n",
        "    crossover toegepast op twee parents\n",
        "    :param parent1: parent 1\n",
        "    :param parent2: parent 2\n",
        "    :param k, l: breakpoints van de genen. Voor k  en na l wordt gebruikt van parent1, daarna van parent2\n",
        "    :return: een kind met gecombineerde genen\n",
        "    \"\"\"\n",
        "\n",
        "    child = []\n",
        "    # Selecteer de te-gebruiken genen van parent 1 & 2\n",
        "    childcenter = [parent1.genes[j] for j in range(k,l+1)]\n",
        "    childedges = [parent2.genes[j] for j in range(0,N) if parent2.genes[j] not in childcenter]\n",
        "    # Voeg de genen samen\n",
        "    child[:k] = childedges[:k]\n",
        "    child[k:l+1] = childcenter\n",
        "    child[l+1:] = childedges[k:]\n",
        "\n",
        "    return(child)"
      ],
      "execution_count": 0,
      "outputs": []
    },
    {
      "cell_type": "code",
      "metadata": {
        "id": "RmGMNAr_4llc",
        "colab_type": "code",
        "colab": {}
      },
      "source": [
        "# def EdgeRecombination():\n",
        "    # Voeg later toe"
      ],
      "execution_count": 0,
      "outputs": []
    },
    {
      "cell_type": "markdown",
      "metadata": {
        "id": "5owzkqNWyabg",
        "colab_type": "text"
      },
      "source": [
        "Child mutation: Muteer een child op een bepaalde manier. Ook hier zijn er meedere manieren mogelijk om mutatie te bereiken."
      ]
    },
    {
      "cell_type": "code",
      "metadata": {
        "id": "dI_OvS5cybRn",
        "colab_type": "code",
        "colab": {}
      },
      "source": [
        "# Swap mutatie (wissel twee genen om)\n",
        "def Swap(child, n):                                   \n",
        "    \"\"\"\n",
        "    Wissel twee genen om\n",
        "    :param child: child to be mutated\n",
        "    :param n: number of mutations\n",
        "    :return: mutated child\n",
        "    \"\"\"\n",
        "    \n",
        "    for i in range(n):\n",
        "      # do a swap\n",
        "      gene1 = rd.sample(range(N),1)[0]\n",
        "      gene2 = rd.sample(range(N),1)[0]\n",
        "      old = child[gene1]\n",
        "      child[gene1] = child[gene2]\n",
        "      child[gene2] = old\n",
        "    \n",
        "    return(child)"
      ],
      "execution_count": 0,
      "outputs": []
    },
    {
      "cell_type": "code",
      "metadata": {
        "id": "mvqcDFeZ6lSg",
        "colab_type": "code",
        "colab": {}
      },
      "source": [
        "# 2-opt mutatie (verander de volgorde tussen twee posities)\n",
        "def two_opt(child, n):\n",
        "    \"\"\"\n",
        "    Doe een 2-opt stap twee genen\n",
        "    :param child: child to be mutated\n",
        "    :param n: number of mutations\n",
        "    :return: mutated child\n",
        "    \"\"\"\n",
        "    \n",
        "    for i in range(n):\n",
        "        # randomly select two genes\n",
        "        gene1 = rd.sample(range(N),1)[0]\n",
        "        gene2 = rd.sample(range(N),1)[0]\n",
        "        if gene1 < gene2:\n",
        "            a = gene1\n",
        "            b = gene2\n",
        "        elif gene2 < gene1:\n",
        "            a = gene2\n",
        "            b = gene1\n",
        "        while gene1 == gene2:\n",
        "            # resample\n",
        "            gene1 = rd.sample(range(N),1)[0]\n",
        "            if gene1 < gene2:\n",
        "                a = gene1\n",
        "                b = gene2\n",
        "            elif gene2 < gene1:\n",
        "                a = gene2\n",
        "                b = gene1\n",
        "\n",
        "        # Apply 2-opt procedure to the route between these genes (reverse order)\n",
        "        child[a:b] = child[a:b][::-1]  \n",
        "    return(child)"
      ],
      "execution_count": 0,
      "outputs": []
    },
    {
      "cell_type": "code",
      "metadata": {
        "id": "RQFLSXZ-_kOv",
        "colab_type": "code",
        "colab": {}
      },
      "source": [
        "# Scramble mutatie (random herodering van genen tussen twee posities)\n",
        "def Scramble(child, s):\n",
        "    \"\"\"\n",
        "    Doe een 2-opt stap twee genen\n",
        "    :param child: child to be mutated\n",
        "    :param s: lengte van de subset die gescrambled wordt (s>1)\n",
        "    :return: mutated child\n",
        "    \"\"\"\n",
        "    \n",
        "    # randomly select a position\n",
        "    gene1 = rd.sample(range(N-s),1)[0]\n",
        "    gene2 = gene1 + s\n",
        "\n",
        "    # Scramble the genes between gene1 and gene2\n",
        "    child[gene1:gene2] = rd.sample(child[gene1:gene2], s)  \n",
        "    return(child)"
      ],
      "execution_count": 0,
      "outputs": []
    },
    {
      "cell_type": "markdown",
      "metadata": {
        "id": "GtVjZqEYyi2P",
        "colab_type": "text"
      },
      "source": [
        "Get best: verkrijg de beste huidige oplossing vanuit de populatie. Hierin hoeft in principe niets te worden aangepast."
      ]
    },
    {
      "cell_type": "code",
      "metadata": {
        "id": "dh2jD4-Nyjl6",
        "colab_type": "code",
        "colab": {}
      },
      "source": [
        "def GetBest(population):\n",
        "    \"\"\"\n",
        "    :param: de huidige populatie\n",
        "    :return: return de beste individual van de huidige populatie\n",
        "    \"\"\"\n",
        "    best = np.argmin([i.fitness for i in population])\n",
        "    return(population[best])"
      ],
      "execution_count": 0,
      "outputs": []
    },
    {
      "cell_type": "markdown",
      "metadata": {
        "id": "XfWMPcQv1J0D",
        "colab_type": "text"
      },
      "source": [
        "De kern van de code: het aanroepen van alle functies.\n",
        "\n",
        "Om zoveel mogelijk randomness te gebruiken, gebruiken we in iedere iteratie een ander mechanisme voor selectie en mutatie, aan de hand van een probability distribution. Indien we geen verbetering vinden, verhogen we de mutatiefactor. Dit om de kans te vergroten dat het algoritme uit een lokaal optimum kan ontsnappen.\n",
        "\n",
        "De global parameters zijn bepaald door trial-and-error. De een zal beter werken dan de ander en dit is simpel een kwestie van uitproberen. Dit kun je ook op een slimme manier doen door een grid search te gebruiken."
      ]
    },
    {
      "cell_type": "code",
      "metadata": {
        "id": "HvrYmfJqKmJT",
        "colab_type": "code",
        "outputId": "16dd4f41-b31d-4ee7-c8ca-d5c7d8146baa",
        "colab": {
          "base_uri": "https://localhost:8080/",
          "height": 3461
        }
      },
      "source": [
        "# Global parameters\n",
        "population_size = 10\n",
        "tournament_size = 4\n",
        "parent_size = 10\n",
        "mutation_factor = 1\n",
        "children_size = 20\n",
        "scramble_size = 3\n",
        "\n",
        "# distributie voor welk selectie mechanisme te gebruiken\n",
        "Tournament_cdf = 0.3\n",
        "FPS_cdf = 0.4\n",
        "Rank_cdf = 1\n",
        "\n",
        "# distributie voor welk mutatie mechanisme te gebruiken\n",
        "Scramble_cdf = 0.5\n",
        "two_opt_cdf = 0.75\n",
        "Swap_cdf = 1\n",
        "\n",
        "# Initialiseer de populatie random. (neem een goede oplossing mee, alles op volgorde van x-coordinaten)\n",
        "population = [Individual(N) for i in range(population_size - 1)]\n",
        "population.append(Individual(N, genes=list(range(N))))\n",
        "for i in population:\n",
        "   # Initialise random and calculate the fitness for each individual\n",
        "   i.Initialise()\n",
        "   i.GetFitness(N)   \n",
        "population[0] = Individual(N,genes=solution)\n",
        "population[0].GetFitness(N)\n",
        "\n",
        "\n",
        "# Evolutionaire cyclus\n",
        "i = 0\n",
        "best_individual = GetBest(population).fitness\n",
        "best_individual_1 = 0\n",
        "n_no_improvements = 0\n",
        "while n_no_improvements < 50000:   # stop als er 50 iteraties geen verbetering meer is geweest\n",
        "    # Als er geen verbetering is geweest, verhoog dan de permutatie parameters\n",
        "    if best_individual - best_individual_1 == 0:\n",
        "        mutation_factor = max(mutation_factor + 1, 3)\n",
        "        scramble_size = max(scramble_size + 1, 8)\n",
        "        n_no_improvement = n_no_improvement + 1\n",
        "    else:\n",
        "        mutation_factor = 1\n",
        "        scramble_size = 3\n",
        "        n_no_improvement = 0\n",
        "        \n",
        "    \n",
        "    # Select parents\n",
        "    draw = rd.uniform(0,1)\n",
        "    if draw < Tournament_cdf:\n",
        "        parents = TournamentSelection(population, parent_size, tournament_size)\n",
        "    elif draw < FPS_cdf:\n",
        "        parents = FitnessProportionalSelection(population, parent_size)\n",
        "    else:\n",
        "        parents = RankBasedSelection(population, parent_size)   \n",
        "    \n",
        "    childs = []\n",
        "    \n",
        "    # Transfer the best children to the childrenset\n",
        "    childs.append(GetBest(population))\n",
        "    \n",
        "    while len(childs) < children_size:\n",
        "    \n",
        "        # Selecteer parents uit de parent set\n",
        "        parent1 = rd.sample(parents, 1)[0]\n",
        "        parent2 = rd.sample(parents, 1)[0]\n",
        "    \n",
        "        # Create children by applying crossover\n",
        "        (a,b) = rd.sample(range(N),2)\n",
        "        k = min(a,b)\n",
        "        l = max(a,b)\n",
        "        child1 = CrossOver(parent1, parent2, k, l)\n",
        "        child2 = CrossOver(parent2, parent1, k ,l)\n",
        "    \n",
        "        # Apply mutation to those children\n",
        "        draw = rd.uniform(0,1)\n",
        "        if draw < Scramble_cdf:\n",
        "            child1 = Scramble(child1, scramble_size)\n",
        "            child2 = Scramble(child2, scramble_size)\n",
        "        elif draw < two_opt_cdf:\n",
        "            child1 = two_opt(child1, mutation_factor)\n",
        "            child2 = two_opt(child2, mutation_factor)  \n",
        "        else:\n",
        "            child1 = Swap(child1, mutation_factor)\n",
        "            child2 = Swap(child2, mutation_factor)\n",
        "    \n",
        "        # Update childs\n",
        "        childs.append(Individual(N,genes=child1))\n",
        "        childs.append(Individual(N,genes=child2))\n",
        "              \n",
        "    # Calculate fitness\n",
        "    [i.GetFitness(N) for i in childs]\n",
        "    idx = np.argpartition([i.fitness for i in childs], population_size)\n",
        "    # Update population\n",
        "    index = [i for i in idx[:population_size]]\n",
        "    population = [childs[i] for i in index]\n",
        "    \n",
        "    i = i + 1\n",
        "    if i%100 == 0:\n",
        "      print(str(GetBest(population).fitness) + \" after iteration \" + str(i))\n",
        "    \n",
        "    \n",
        "GetBest(population)\n",
        "\n",
        "print(\"Oplossing gevonden\")"
      ],
      "execution_count": 0,
      "outputs": [
        {
          "output_type": "stream",
          "text": [
            "692193.1894964933 after iteration 100\n",
            "623013.2468130266 after iteration 200\n",
            "570042.0260280762 after iteration 300\n",
            "537160.2149235653 after iteration 400\n",
            "515525.3554475918 after iteration 500\n",
            "500533.2392029567 after iteration 600\n",
            "482623.07845708996 after iteration 700\n",
            "470912.70155415474 after iteration 800\n",
            "459088.54634381743 after iteration 900\n",
            "448391.7500474048 after iteration 1000\n",
            "435626.85672354844 after iteration 1100\n",
            "427801.0906763759 after iteration 1200\n",
            "417414.92482089007 after iteration 1300\n",
            "405376.09531715093 after iteration 1400\n",
            "398645.0004388856 after iteration 1500\n",
            "393137.44667571265 after iteration 1600\n",
            "385453.1330819195 after iteration 1700\n",
            "378231.96222691255 after iteration 1800\n",
            "372185.6908658453 after iteration 1900\n",
            "363578.9590826836 after iteration 2000\n",
            "358344.47404657985 after iteration 2100\n",
            "351137.8322239258 after iteration 2200\n",
            "347857.6730283878 after iteration 2300\n",
            "343577.51566479774 after iteration 2400\n",
            "338601.87318765087 after iteration 2500\n",
            "334271.59491145227 after iteration 2600\n",
            "329938.4790443669 after iteration 2700\n",
            "325307.6319606978 after iteration 2800\n",
            "318700.57985954767 after iteration 2900\n",
            "315338.9544338696 after iteration 3000\n",
            "311042.9441122831 after iteration 3100\n",
            "308466.91675646504 after iteration 3200\n",
            "305600.6076437447 after iteration 3300\n",
            "301387.61132026697 after iteration 3400\n",
            "296321.65784193715 after iteration 3500\n",
            "294540.24172275205 after iteration 3600\n",
            "290727.06567904586 after iteration 3700\n",
            "287651.5329193083 after iteration 3800\n",
            "286878.7730476959 after iteration 3900\n",
            "285201.0196137802 after iteration 4000\n",
            "284272.8300492603 after iteration 4100\n",
            "282522.79636016925 after iteration 4200\n",
            "279846.87852586375 after iteration 4300\n",
            "278684.1531954972 after iteration 4400\n",
            "277454.20732066076 after iteration 4500\n",
            "273064.61960501125 after iteration 4600\n",
            "270532.55758744583 after iteration 4700\n",
            "268061.39276237536 after iteration 4800\n",
            "266309.7312407835 after iteration 4900\n",
            "264571.50470646354 after iteration 5000\n",
            "263474.89585988736 after iteration 5100\n",
            "261143.85317684273 after iteration 5200\n",
            "260282.54588397316 after iteration 5300\n",
            "259039.2921862159 after iteration 5400\n",
            "254925.47033543015 after iteration 5500\n",
            "252867.73569366694 after iteration 5600\n",
            "250977.9289706015 after iteration 5700\n",
            "250432.88708848984 after iteration 5800\n",
            "248364.49010647426 after iteration 5900\n",
            "245156.14813631636 after iteration 6000\n",
            "243874.0566637892 after iteration 6100\n",
            "243436.73558521856 after iteration 6200\n",
            "240369.15614180497 after iteration 6300\n",
            "239214.09576903022 after iteration 6400\n",
            "237849.118062303 after iteration 6500\n",
            "235661.69284583305 after iteration 6600\n",
            "233331.39777388336 after iteration 6700\n",
            "231996.11389893026 after iteration 6800\n",
            "231346.39341338674 after iteration 6900\n",
            "230889.00932444236 after iteration 7000\n",
            "230503.6180488025 after iteration 7100\n",
            "230004.09696592137 after iteration 7200\n",
            "227819.95410007547 after iteration 7300\n",
            "227031.87759290793 after iteration 7400\n",
            "225940.13016102594 after iteration 7500\n",
            "224729.49269985154 after iteration 7600\n",
            "224336.7730936707 after iteration 7700\n",
            "223895.54838842957 after iteration 7800\n",
            "223152.99460326685 after iteration 7900\n",
            "221818.9576474178 after iteration 8000\n",
            "221174.78261708812 after iteration 8100\n",
            "218590.24791183206 after iteration 8200\n",
            "217950.00677822344 after iteration 8300\n",
            "217219.4259108849 after iteration 8400\n",
            "216672.9270463172 after iteration 8500\n",
            "215457.30386963853 after iteration 8600\n",
            "214643.35468768858 after iteration 8700\n",
            "214328.80976376 after iteration 8800\n",
            "212436.20037425304 after iteration 8900\n",
            "210801.80386240134 after iteration 9000\n",
            "209274.8335939335 after iteration 9100\n",
            "207378.77993558894 after iteration 9200\n",
            "206236.3636337077 after iteration 9300\n",
            "205159.386564994 after iteration 9400\n",
            "204722.16223693502 after iteration 9500\n",
            "204388.3881465326 after iteration 9600\n",
            "203089.3343051784 after iteration 9700\n",
            "201849.4123734294 after iteration 9800\n",
            "201327.47016670255 after iteration 9900\n",
            "200878.83073598216 after iteration 10000\n",
            "199106.75579656524 after iteration 10100\n",
            "197469.22612597252 after iteration 10200\n",
            "195880.53887298203 after iteration 10300\n",
            "194767.41333465296 after iteration 10400\n",
            "193691.87522347554 after iteration 10500\n",
            "192238.33599323907 after iteration 10600\n",
            "191729.23254075163 after iteration 10700\n",
            "191406.50219125868 after iteration 10800\n",
            "190824.39067431088 after iteration 10900\n",
            "189706.25420281454 after iteration 11000\n",
            "187407.58247602262 after iteration 11100\n",
            "186696.71709128754 after iteration 11200\n",
            "185910.45145976846 after iteration 11300\n",
            "185014.1163611559 after iteration 11400\n",
            "184751.95997033408 after iteration 11500\n",
            "184317.31102855172 after iteration 11600\n",
            "184264.49972427322 after iteration 11700\n",
            "183777.7558030956 after iteration 11800\n",
            "183326.65771986978 after iteration 11900\n",
            "182378.5329421299 after iteration 12000\n",
            "181723.77050385432 after iteration 12100\n",
            "181458.2389647912 after iteration 12200\n",
            "180726.54987255533 after iteration 12300\n",
            "180295.21571909453 after iteration 12400\n",
            "179994.9124521791 after iteration 12500\n",
            "179909.52428126766 after iteration 12600\n",
            "179747.03574460742 after iteration 12700\n",
            "179429.2093698964 after iteration 12800\n",
            "179307.1468546905 after iteration 12900\n",
            "178767.36957576155 after iteration 13000\n",
            "178640.2234942239 after iteration 13100\n",
            "178284.97553561436 after iteration 13200\n",
            "176690.69990634502 after iteration 13300\n",
            "175855.335114204 after iteration 13400\n",
            "175145.95427884432 after iteration 13500\n",
            "174163.14086983915 after iteration 13600\n",
            "174100.95196347297 after iteration 13700\n",
            "174010.52219875832 after iteration 13800\n",
            "173157.2593283945 after iteration 13900\n",
            "172673.24040259206 after iteration 14000\n",
            "172169.40518660579 after iteration 14100\n",
            "171649.35899161187 after iteration 14200\n",
            "171365.24295629142 after iteration 14300\n",
            "171282.75735041138 after iteration 14400\n",
            "170585.16880958396 after iteration 14500\n",
            "170001.82014056435 after iteration 14600\n",
            "169941.52393191445 after iteration 14700\n",
            "169266.14922997964 after iteration 14800\n",
            "168204.64782392446 after iteration 14900\n",
            "168087.37001515666 after iteration 15000\n",
            "167355.0490896293 after iteration 15100\n",
            "167109.23880687213 after iteration 15200\n",
            "166760.8443185115 after iteration 15300\n",
            "166576.096398045 after iteration 15400\n",
            "166160.06167835023 after iteration 15500\n",
            "165430.2287179573 after iteration 15600\n",
            "165251.86101963592 after iteration 15700\n",
            "163739.29737950236 after iteration 15800\n",
            "163510.28810742762 after iteration 15900\n",
            "162366.38127978257 after iteration 16000\n",
            "161416.64739061377 after iteration 16100\n",
            "161229.04706746957 after iteration 16200\n",
            "161135.72803283948 after iteration 16300\n",
            "160617.67148365726 after iteration 16400\n",
            "160329.09307882786 after iteration 16500\n",
            "160252.2409453984 after iteration 16600\n",
            "159562.69374161138 after iteration 16700\n",
            "159080.5025615373 after iteration 16800\n",
            "158701.6907352256 after iteration 16900\n",
            "158390.00451600467 after iteration 17000\n",
            "158078.10649627354 after iteration 17100\n",
            "157636.25521680506 after iteration 17200\n",
            "157496.0219157584 after iteration 17300\n",
            "157316.87653571359 after iteration 17400\n",
            "157302.92399478148 after iteration 17500\n",
            "157181.00852675622 after iteration 17600\n",
            "156977.46486560613 after iteration 17700\n",
            "156350.70754827358 after iteration 17800\n",
            "156238.7655377769 after iteration 17900\n",
            "155899.35441039153 after iteration 18000\n",
            "155787.8938532714 after iteration 18100\n",
            "155644.13072414478 after iteration 18200\n",
            "155544.9520029201 after iteration 18300\n",
            "155147.10470160202 after iteration 18400\n",
            "154806.67066784477 after iteration 18500\n",
            "154559.8121477177 after iteration 18600\n",
            "154545.1181123478 after iteration 18700\n",
            "154448.94154694388 after iteration 18800\n",
            "154289.95888356664 after iteration 18900\n",
            "154061.894457865 after iteration 19000\n",
            "153673.29453134438 after iteration 19100\n",
            "153522.96186450514 after iteration 19200\n",
            "153162.1319558265 after iteration 19300\n",
            "152594.76108900103 after iteration 19400\n",
            "152343.20790964432 after iteration 19500\n",
            "152321.00630193172 after iteration 19600\n",
            "152283.5344537849 after iteration 19700\n",
            "151944.14438361922 after iteration 19800\n",
            "151894.66585709262 after iteration 19900\n",
            "151830.90528438156 after iteration 20000\n",
            "151782.89749498398 after iteration 20100\n",
            "151560.676112015 after iteration 20200\n",
            "151101.54182368162 after iteration 20300\n",
            "150814.08591467497 after iteration 20400\n",
            "150578.53067428785 after iteration 20500\n"
          ],
          "name": "stdout"
        }
      ]
    },
    {
      "cell_type": "code",
      "metadata": {
        "id": "I4LystmMTCuS",
        "colab_type": "code",
        "colab": {}
      },
      "source": [
        ""
      ],
      "execution_count": 0,
      "outputs": []
    },
    {
      "cell_type": "markdown",
      "metadata": {
        "id": "uyX3M4qDKD9L",
        "colab_type": "text"
      },
      "source": [
        "Stuur uiterlijk 20:40 je oplossing in .txt format naar lars@pipple.nl . De functie hieronder kun je gebruiken om je oplossing naar .txt format te krijgen."
      ]
    },
    {
      "cell_type": "code",
      "metadata": {
        "id": "pSEvLOQ-N7y8",
        "colab_type": "code",
        "colab": {}
      },
      "source": [
        "from google.colab import files\n",
        "def writetxt(solution, team_name = 'name'):\n",
        "    with open(team_name + '.txt', 'w') as f:\n",
        "        for i in solution:\n",
        "            f.write(\"%s\\n\" % i)\n",
        "    f.close()\n",
        "    files.download(team_name + '.txt')"
      ],
      "execution_count": 0,
      "outputs": []
    },
    {
      "cell_type": "code",
      "metadata": {
        "id": "045K1lIrPb_U",
        "colab_type": "code",
        "colab": {}
      },
      "source": [
        "writetxt(GetBest(population).genes, team_name = \"test\")"
      ],
      "execution_count": 0,
      "outputs": []
    },
    {
      "cell_type": "code",
      "metadata": {
        "id": "dx-Pd3LwyLOL",
        "colab_type": "code",
        "colab": {}
      },
      "source": [
        "print(GetBest(population).fitness)\n",
        "plotSolution(GetBest(population).genes)"
      ],
      "execution_count": 0,
      "outputs": []
    }
  ]
}
