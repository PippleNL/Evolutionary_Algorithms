{
  "nbformat": 4,
  "nbformat_minor": 0,
  "metadata": {
    "colab": {
      "name": "Evolutionary_algorithm_Nqueens.ipynb",
      "version": "0.3.2",
      "provenance": [],
      "collapsed_sections": []
    },
    "kernelspec": {
      "name": "python3",
      "display_name": "Python 3"
    }
  },
  "cells": [
    {
      "cell_type": "markdown",
      "metadata": {
        "id": "WLXqphnSlAeJ",
        "colab_type": "text"
      },
      "source": [
        "Dit notebook laat een voorbeeld zien van een evolutionary algorithm in de praktijk. Laad eerst nodige packages in"
      ]
    },
    {
      "cell_type": "code",
      "metadata": {
        "id": "kFxZS3umjUFM",
        "colab_type": "code",
        "colab": {}
      },
      "source": [
        "import random as rd\n",
        "import numpy as np\n",
        "import time"
      ],
      "execution_count": 0,
      "outputs": []
    },
    {
      "cell_type": "markdown",
      "metadata": {
        "id": "f9kaFdTPlYR4",
        "colab_type": "text"
      },
      "source": [
        "Het N-queens probleem is het probleem om N koninginnen dusdanig op een schaakbord van NxN neer te zetten, zodat geen enkele koningin een andere koningin kan gaan slaan. Voor de niet-schakers: Een koningin mag zowel verticaal, horizontaal als diagonaal bewegen, zoveel zetten als wenselijk. Hieronder een voorbeeld van een juiste oplossing voor N=8\n",
        "\n",
        "> ![alt text](https://cdn-images-1.medium.com/max/1200/1*Zm2pbDR5CS2w2xeUbTBxQQ.png)\n",
        "\n",
        "Voor N=8 zijn er in totaal 64 choose 8 = 4.426.165.368 mogelijke manieren om de koninginnen neer zetten, waarvan er slechts 92 een juiste oplossing zijn. Dit is dus al vrij onpraktisch om alle manieren af te gaan, laat staan als N groter is. Daarom kunnen we een evolutionary algorithm gebruiken om een oplossing te vinden.\n",
        "\n",
        "\n",
        "\n"
      ]
    },
    {
      "cell_type": "markdown",
      "metadata": {
        "id": "s22hYXw3nr7_",
        "colab_type": "text"
      },
      "source": [
        "Een evolutionary algorithm bestaat uit een aantal stappen dat iteratief doorlopen wordt, totdat een oplossing is bereikt die aan een bepaald criteria voldoet. Dit kan een vast aantal iteraties zijn, of totdat er een x aantal iteraties geen verbetering te zien is, of totdat een oplossing is bereikt (zoals in het N-queens probleem).\n",
        "\n",
        "\n",
        "> ![alt text](https://cdn-images-1.medium.com/max/1600/1*odW0CYMTeS-R5WW1hM0NUw.jpeg)\n",
        "\n",
        "Alvorens te beginnen is het goed om na te denken hoe we een oplossing willen representeren. In het geval van het N-queens probleem, kunnen we kiezen voor een 8x8 matrix, met een 1 als er een queen staat, en een 0 als er geen staat. Zoals bijvoorbeeld\n",
        "\n",
        "\n",
        "```\n",
        "[0, 0, 0, 0, 1, 0, 0, 0]\n",
        "[0, 1, 0, 0, 0, 0, 0, 0]\n",
        "[0, 0, 0, 1, 0, 0, 0, 0]\n",
        "[0, 0, 0, 0, 0, 0, 1, 0]\n",
        "[0, 0, 1, 0, 0, 0, 0, 0]\n",
        "[0, 0, 0, 0, 0, 0, 0, 1]\n",
        "[0, 0, 0, 0, 0, 1, 0, 0]\n",
        "[1, 0, 0, 0, 0, 0, 0, 0]\n",
        "```\n",
        "\n",
        "\n",
        "als in het schaakbord van hierboven. Dit geeft echter in totaal 2^64 mogelijkheden, dat zijn er wel erg veel om te kunnen doorlopen. We kunnen ook een stapje slimmer zijn: We nemen een 8x1 vector, met in iedere entry een getal tussen de 1 en de 8, die het rijnummer aangeven waarin de koningin staat. Zo zorgen we er automatisch voor dat er geen koninginnen op dezelfde kolommen staan. Nu zijn er nog maar 8^8 mogelijkheden over. Uiteraard kunnen we nog een stuk verder gaan: nu nemen we een 8x1 vector, met een iedere entry een getal tussen de 1 en de 8, waarbij ieder nummer maar een keer mag voorkomen: Zo kan er ook in iedere rij geen twee koninginnen staan en hebben we nog 8! = 40320 opties over, beduidend minder! Het bovenstaande voorbeeld heeft dan als representatie\n",
        "\n",
        "\n",
        "```\n",
        "[1, 7, 4, 6, 8, 2, 5, 3]\n",
        "```\n",
        "\n",
        "Zo'n representatie noemen we een individu. Voor andere problemen kun je ook andere representaties gebruiken, dit is afhankelijk van het probleem. Voor een evolutionary algorithm om te werken, heb je een hele populatie nodig, bestaande uit een heleboel individuen. De grootte van de populatie is een parameter, voor verschillende problemen werkt een andere populatie grootte. Daarnaast moeten we natuurlijk weten hoe \"goed\" een individu is. Daarvoor gebruiken we een fitness functie, in dit specifieke geval tellen we het aantal koninginnen die elkaar kunnen slaan.\n",
        "\n",
        "---\n",
        "\n",
        "\n",
        "\n",
        "Laten we beginnen met een class aan te maken voor een individu. We voegen twee methods toe: \n",
        "\n",
        "\n",
        "*   Een om random een individu te creeën\n",
        "*   Een om de fitness van een individu te berekenen\n",
        "\n",
        "\n",
        "\n"
      ]
    },
    {
      "cell_type": "code",
      "metadata": {
        "id": "2pIJQjcztH1t",
        "colab_type": "code",
        "colab": {}
      },
      "source": [
        "# Maak class individual aan\n",
        "class Individual:\n",
        "    def __init__(self, length, genes = None):\n",
        "        self.length = length\n",
        "        self.fitness = None\n",
        "        if genes is not None:\n",
        "            self.genes = genes\n",
        "        else:\n",
        "            self.genes = []*length\n",
        "\n",
        "\n",
        "    # Initialiseer de genen random\n",
        "    def InitialiseRandom(self):\n",
        "        self.genes = rd.sample(range(self.length), self.length)\n",
        "\n",
        "    # Maak een fitness functie om te berekenen hoe goed de huidige individu is\n",
        "    def GetFitness(self, N):\n",
        "        \"\"\"\n",
        "        Berekent de fitness van een individual\n",
        "        :param self: individual\n",
        "        \"\"\"\n",
        "        fit = 0\n",
        "        for i in range(N):\n",
        "            \"\"\"\n",
        "            Tel het aantal queens dat deze queen kan slaan. \n",
        "            Door de encoding hoeft er alleen naar de diagonaal gekeken te worden\n",
        "            Een queen kan geslagen worden door een andere queen als het absolute verschil in de genen gelijk\n",
        "             is aan het absolute verschil in posities\n",
        "            \"\"\"\n",
        "            for j in range(N):\n",
        "                # Een queen kan zichzelf niet slaan\n",
        "                if i != j:\n",
        "                    if abs(self.genes[i] - self.genes[j]) == abs(i - j):\n",
        "                        fit = fit + 1\n",
        "        self.fitness = fit"
      ],
      "execution_count": 0,
      "outputs": []
    },
    {
      "cell_type": "markdown",
      "metadata": {
        "id": "vtGj0qUxuOsM",
        "colab_type": "text"
      },
      "source": [
        "Om te beginnen maken we dus een populatie aan van random aangemaakte individuen. Daarnaast zetten we een aantal parameters voor de grootte van het schaakbord en voor de grootte van de populatie"
      ]
    },
    {
      "cell_type": "code",
      "metadata": {
        "id": "mrMn_obsumpk",
        "colab_type": "code",
        "colab": {}
      },
      "source": [
        "# Global parameters\n",
        "population_size = 1000\n",
        "N = 14 # De grootte van het schaakbord\n",
        "\n",
        "# Initialiseer de populatie random\n",
        "population = [Individual(N) for i in range(population_size)]\n",
        "for i in population:\n",
        "    # Initialise random and calculate the fitness for each individual\n",
        "    i.InitialiseRandom()\n",
        "    i.GetFitness(N)"
      ],
      "execution_count": 0,
      "outputs": []
    },
    {
      "cell_type": "markdown",
      "metadata": {
        "id": "kerHUeOQwSHj",
        "colab_type": "text"
      },
      "source": [
        "Vervolgens moeten we bepalen welke individuen goed zijn. Betere individuen moeten namelijk een hogere kans te krijgen om \"voor te planten\", in analogie met in de natuur. Hiervoor gebruiken we de fitness functie.\n",
        "\n",
        "Daarna zijn er verschillende manieren om ouders te selecteren die gebruikt worden om een nieuwe populatie te maken. Hieronder gebruiken we tournament selection: Er worden random een aantal individuen geselecteerd, en de \"sterkste\" inividu hiervan wordt toegevoegd aan de parent population. Dit wordt herhaald tot het aantal gewenste ouders is bereikt.\n",
        "\n",
        "Andere manieren parent selection te doen zijn bijvoorbeeld:\n",
        "\n",
        "*   Fitness Proportionate Selection\n",
        "*   Rank Selection\n",
        "*   Random Selection\n",
        "*   Reward Based Selection\n",
        "*   Age Based Selection\n",
        "*   Elitism\n",
        "\n",
        "Het is van het probleem afhankelijk welke manieren goed werken en welke minder"
      ]
    },
    {
      "cell_type": "code",
      "metadata": {
        "id": "I_8WXsHejZEC",
        "colab_type": "code",
        "colab": {}
      },
      "source": [
        "# Een voorbeeld van een parent selection mechanisme\n",
        "def TournamentSelection(pop, size, tournament_size):\n",
        "    \"\"\"\n",
        "    Geeft een populatie van parents op basis van tournament selection: Er worden tournament_size individuen geselecteerd\n",
        "     uit pop waarvan degene met de hoogste fitness wint en toegevoegd wordt aan de parent populatie\n",
        "    :param pop: De populatie die gebruikt wordt om parents van te selecteren\n",
        "    :param size: De grootte van de parent populatie\n",
        "    :param tournament_size: De grootte van een toernooi. Moet kleiner zijn dan population_size\n",
        "    :return: de parent populatie\n",
        "    \"\"\"\n",
        "    parent_pop = []\n",
        "    for i in range(size):\n",
        "        # selecteer tournament_size individuals (random sampling without replacement)\n",
        "        tournament = rd.sample(pop, tournament_size)\n",
        "        # selecteer de beste individual\n",
        "        winner = np.argmin([i.fitness for i in tournament])\n",
        "        # voeg deze toe aan parent_pop\n",
        "        parent_pop.append(pop[winner])\n",
        "    return(parent_pop)"
      ],
      "execution_count": 0,
      "outputs": []
    },
    {
      "cell_type": "markdown",
      "metadata": {
        "id": "iJcfUnevkou-",
        "colab_type": "text"
      },
      "source": [
        "Vervolgens is het tijd om nieuwe kinderen te creëren. Hieronder gebruiken we crossover: Een gedeelte van de ene ouder wordt gebruikt, en een ander gedeelte van de ander (zie hieronder).\n",
        "\n",
        "![alt text](https://cdn-images-1.medium.com/max/1600/1*YhmzBBCyAG3rtEBbI0gz4w.jpeg)\n",
        "\n",
        "Ook hier zijn er natuurlijk andere opties:\n",
        "\n",
        "*   Single point crossover\n",
        "*   k-point crossover\n",
        "*   Uniform crossover\n",
        "*   Edge recombination\n",
        "\n"
      ]
    },
    {
      "cell_type": "code",
      "metadata": {
        "id": "PvQDF9XHlpIr",
        "colab_type": "code",
        "colab": {}
      },
      "source": [
        "def CrossOver(parent1, parent2, k, l):\n",
        "    \"\"\"\n",
        "    crossover toegepast op twee parents\n",
        "    :param parent1: parent 1\n",
        "    :param parent2: parent 2\n",
        "    :param k l: breakpoints van de genen. Voor k wordt gebruikt van parent1, daarna van parent2\n",
        "    :return: een kind met gecombineerde genen\n",
        "    \"\"\"\n",
        "\n",
        "    child = []\n",
        "    # Selecteer de te-gebruiken genen van parent 1 & 2\n",
        "    childcenter = [parent1.genes[j] for j in range(k,l+1)]\n",
        "    childedges = [parent2.genes[j] for j in range(0,N) if parent2.genes[j] not in childcenter]\n",
        "    # Voeg de genen samen\n",
        "    child[:k] = childedges[:k]\n",
        "    child[k:l+1] = childcenter\n",
        "    child[l+1:] = childedges[k:]\n",
        "\n",
        "    return(child)"
      ],
      "execution_count": 0,
      "outputs": []
    },
    {
      "cell_type": "markdown",
      "metadata": {
        "id": "azO0rOSWmGIe",
        "colab_type": "text"
      },
      "source": [
        "Om nieuwe gebieden te ontdekken, kunnen we mutatie toevoegen op de kinderen. Hieronder passen we een swap operatie toe.\n",
        "\n",
        "![alt text](http://www.wardsystems.com/manuals/genehunter/_bm53.png)\n",
        "\n",
        "Twee random geselecteerde genen worden omgewisseld. Ook hier zijn er andere mogelijkheden, zoals:\n",
        "\n",
        "\n",
        "*   Bit flip mutation\n",
        "*   Uniform mutation\n",
        "*   Gaussian mutation\n",
        "*   Bit string mutation\n",
        "*   Random Resetting\n",
        "*   Insert\n",
        "*   Scramble\n",
        "*   Inversion\n",
        "*   2-opt\n",
        "*   k-opt\n",
        "\n",
        "Hier is het ook afhankelijk van de representatie welke je kan gebruiken. Daarnaast ligt ook hier aan de aard van het probleem welke mutaties goed werken en welke slecht\n",
        "\n"
      ]
    },
    {
      "cell_type": "code",
      "metadata": {
        "id": "QLy4O_LcmOdz",
        "colab_type": "code",
        "colab": {}
      },
      "source": [
        "def Swap(child, factor):                                   \n",
        "    \"\"\"\n",
        "    Wissel twee genen om\n",
        "    :param child: child to be mutated\n",
        "    :param factor: in (1,2), worden er een of twee genen omgewisseld?\n",
        "    :return: mutated child\n",
        "    \"\"\"\n",
        "\n",
        "    for i in range(factor):\n",
        "        (k, l) = rd.sample(range(N), 2)\n",
        "\n",
        "        # swap two genes\n",
        "        old = child[k]\n",
        "        child[k] = child[l]\n",
        "        child[l] = old\n",
        "\n",
        "    return(child)"
      ],
      "execution_count": 0,
      "outputs": []
    },
    {
      "cell_type": "markdown",
      "metadata": {
        "id": "5NrzJ-rRr6kP",
        "colab_type": "text"
      },
      "source": [
        "Zo kunnen er een heleboel kinderen gecreëerd worden. Uiteraard zullen sommige kinderen een lagere fitness hebben dan hun ouders, maar sommige zullen ook een hogere fitness hebben. Door het survival of the fittest principe toe te passen, maken betere kinderen een hogere kans om te herproduceren, waardoor op de lange termijn de hele populatie beter zal worden en sterkere genen zullen overleven.\n",
        "\n",
        "Het is hierin belangrijk een goede afweging te maken tussen \"exploration\" en \"optimization\". Een hoge mutatiefactor en veel crossover zal zorgen dat er veel nieuwe gebieden ontdekt worden, maar als de selectiedruk te laag is (minder fitte individuen krijgen een te hoge kans om te herproduceren), zal de populatie niet beter worden. Daar tegenover staat als de selectiedruk te hoog is, het algoritme te snel in een lokaal optimum terecht kan komen, waardoor andere goede oplossingen gemist kunnen worden.\n",
        "\n",
        "Hieronder staat de hele evolutionaire cyclus beschreven. Het algoritme stopt als de fitness van de beste individu 0 is, dus als er een oplossing is bereikt."
      ]
    },
    {
      "cell_type": "code",
      "metadata": {
        "id": "MW4rLULJtrY7",
        "colab_type": "code",
        "outputId": "6301792b-33cb-4271-8621-eab7b9953267",
        "colab": {
          "base_uri": "https://localhost:8080/",
          "height": 118
        }
      },
      "source": [
        "def GetBest(population):\n",
        "    \"\"\"\n",
        "    :param: de huidige populatie\n",
        "    :return: return de beste individual van de huidige populatie\n",
        "    \"\"\"\n",
        "    best = np.argmin([i.fitness for i in population])\n",
        "    return(population[best])\n",
        "\n",
        "# Global parameters\n",
        "tournament_size = 20 # De grootte van een toernooi\n",
        "parent_size = 500 # De grootte van de parent set\n",
        "mutation_factor = 0.8 # De kans op een enkele mutatie\n",
        "mutation_factor_double = 0.5 # De kans op een dubbele mutatie, gegeven enkele mutatie\n",
        "\n",
        "# Evolutionaire cyclus\n",
        "i = 0\n",
        "start_time = time.time()\n",
        "while GetBest(population).fitness > 0:\n",
        "    if i%10 == 0:\n",
        "        print(\"iteratie\", i)\n",
        "    # Selecteer parents\n",
        "    parents = TournamentSelection(population, parent_size, tournament_size)\n",
        "    childs = []\n",
        "    # Voeg het beste individu van de vorige populatie toe (Elitism)\n",
        "    childs.append(GetBest(population))\n",
        "    while len(childs) < population_size:\n",
        "        # Selecteer parents uit de parent set\n",
        "        parent1 = rd.sample(parents, 1)[0]\n",
        "        parent2 = rd.sample(parents, 1)[0]\n",
        "        # Maak twee kinderen (tegenovergestelde van elkaar) \n",
        "        (a,b) = rd.sample(range(N),2)\n",
        "        k = min(a,b)\n",
        "        l = max(a,b)\n",
        "        child1 = CrossOver(parent1, parent2, k, l)\n",
        "        child2 = CrossOver(parent2, parent1, k ,l)\n",
        "\n",
        "        if bool(np.random.binomial(1, mutation_factor)):\n",
        "            if bool(np.random.binomial(1, mutation_factor_double)):\n",
        "                # Dubbele mutatie\n",
        "                child1 = Swap(child1, 2)\n",
        "            else:\n",
        "                # Enkele mutatie\n",
        "                child1 = Swap(child1, 1)\n",
        "        if bool(np.random.binomial(1, mutation_factor)):\n",
        "            if bool(np.random.binomial(1, mutation_factor_double)):\n",
        "                # Dubbele mutatie\n",
        "                child2 = Swap(child2, 2)\n",
        "            else:\n",
        "                # Enkele mutatie\n",
        "                child2 = Swap(child2, 1)\n",
        "        # Voeg kinderen toe\n",
        "        childs.append(Individual(N, genes= child1))\n",
        "        childs.append(Individual(N, genes= child2))\n",
        "\n",
        "    # Update de populatie\n",
        "    population = childs\n",
        "    # Bereken de fitness voor de nieuwe populatie\n",
        "    [i.GetFitness(N) for i in population]\n",
        "    i = i + 1\n",
        "\n",
        "end_time = time.time() - start_time\n",
        "print(\"Oplossing gevonden\")"
      ],
      "execution_count": 0,
      "outputs": [
        {
          "output_type": "stream",
          "text": [
            "iteratie 0\n",
            "iteratie 10\n",
            "iteratie 20\n",
            "iteratie 30\n",
            "iteratie 40\n",
            "Oplossing gevonden\n"
          ],
          "name": "stdout"
        }
      ]
    },
    {
      "cell_type": "markdown",
      "metadata": {
        "id": "Y3A1x09mwtLp",
        "colab_type": "text"
      },
      "source": [
        "En tot slot: Print de oplossing"
      ]
    },
    {
      "cell_type": "code",
      "metadata": {
        "id": "f1QNNM9DwsCq",
        "colab_type": "code",
        "outputId": "152e3eaa-ba17-4aca-ff75-6c35c8e80087",
        "colab": {
          "base_uri": "https://localhost:8080/",
          "height": 50
        }
      },
      "source": [
        "print(\"Oplossing gevonden: \", GetBest(population).genes)\n",
        "print(\"After \" + str(i) + \" iterations and \" + str(end_time) + \" seconds.\")"
      ],
      "execution_count": 0,
      "outputs": [
        {
          "output_type": "stream",
          "text": [
            "Oplossing gevonden:  [12, 3, 11, 8, 1, 5, 2, 10, 6, 0, 9, 4, 13, 7]\n",
            "After 48 iterations and 5.596699237823486 seconds.\n"
          ],
          "name": "stdout"
        }
      ]
    },
    {
      "cell_type": "markdown",
      "metadata": {
        "id": "hyYieBISwwBN",
        "colab_type": "text"
      },
      "source": [
        "De code hierboven werkt dus redelijk snel als je bedenkt dat er N! configuraties zijn. Door te spelen met de parameter settings zou het wellicht nog sneller kunnen.\n",
        "\n",
        "Hierboven is de basis van een evolutionair algoritme beschreven. Uiteraard zijn er veel extensies en aanpassingen mogelijk. Te denken valt aan\n",
        "\n",
        "*   Parameters kunnen veranderen over tijd\n",
        "*   Parameters kunnen ook mee evalueren\n",
        "*   Waarom zou je jezelf limiteren aan de wetten van de natuur? 3 of meer ouders kan op een computer ook prima\n",
        "*   Verschillende crossover en mutatie methodes in hetzelfde algoritme\n",
        "*   enz.\n",
        "\n",
        "\n"
      ]
    }
  ]
}